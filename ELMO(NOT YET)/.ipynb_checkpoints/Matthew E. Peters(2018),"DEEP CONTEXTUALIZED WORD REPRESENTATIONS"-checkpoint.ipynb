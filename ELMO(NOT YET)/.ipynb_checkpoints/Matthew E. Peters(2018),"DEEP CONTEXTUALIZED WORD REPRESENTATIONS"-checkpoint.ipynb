{
 "cells": [
  {
   "cell_type": "markdown",
   "metadata": {},
   "source": [
    "- 해당 페이지는 Anonymous authors(2018),\"DEEP CONTEXTUALIZED WORD REPRESENTATIONS\" 논문에 관한 구현입니다.\n",
    "- https://openreview.net/pdf?id=SJTCsqMUf"
   ]
  },
  {
   "cell_type": "code",
   "execution_count": 1,
   "metadata": {},
   "outputs": [],
   "source": [
    "import torch\n",
    "import torch.nn as nn\n",
    "import torch.optim as optim\n",
    "from torch.autograd import Variable\n",
    "import torch.nn.functional as F\n",
    "\n",
    "from torchtext import datasets\n",
    "from torchtext import data\n",
    "from torchtext.data import Field, BucketIterator\n",
    "\n",
    "import string\n",
    "import random\n",
    "import re\n",
    "import os\n",
    "import time\n",
    "\n",
    "SEED = 1\n",
    "\n",
    "random.seed(SEED)\n",
    "torch.manual_seed(SEED)\n",
    "torch.backends.cudnn.deterministic = True"
   ]
  },
  {
   "cell_type": "code",
   "execution_count": 13,
   "metadata": {},
   "outputs": [],
   "source": [
    "# set up fields\n",
    "TEXT = data.Field(lower=True, include_lengths=True, batch_first=True)\n",
    "LABEL = data.Field(sequential=False)\n",
    "\n",
    "# make splits for data\n",
    "train,valid,test = datasets.SST.splits(TEXT, LABEL)\n",
    "\n",
    "# build the vocabulary\n",
    "TEXT.build_vocab(train)\n",
    "LABEL.build_vocab(train)\n",
    "\n",
    "TEXT.build_vocab(test)\n",
    "LABEL.build_vocab(test)\n",
    "\n",
    "# make iterator for splits\n",
    "train_iter, test_iter = data.BucketIterator.splits(\n",
    "    (train, test), batch_size=1000, device='cpu')"
   ]
  },
  {
   "cell_type": "code",
   "execution_count": 14,
   "metadata": {
    "scrolled": true
   },
   "outputs": [
    {
     "data": {
      "text/plain": [
       "(tensor([[  55,   28,  150,  ...,    1,    1,    1],\n",
       "         [   4,  351,    8,  ...,    1,    1,    1],\n",
       "         [   4,  343, 1772,  ...,    1,    1,    1],\n",
       "         ...,\n",
       "         [4481, 1178,    6,  ...,    1,    1,    1],\n",
       "         [  30, 2644, 7551,  ...,    1,    1,    1],\n",
       "         [1175,    4,   59,  ...,    1,    1,    1]]),\n",
       " tensor([24, 17, 35, 46, 27, 22, 28, 16,  2, 11,  9, 13, 13, 21,  7,  6, 23, 17,\n",
       "         12, 24, 22, 21, 14, 13, 15, 19,  9, 31, 24, 46, 14, 19, 16, 19, 18, 14,\n",
       "         17, 27, 20, 36, 15, 27, 21, 32, 27, 12, 31, 45,  7, 20, 15, 19, 28, 16,\n",
       "         25, 10, 14,  4,  5, 17,  9, 10,  6,  7, 14, 45, 26, 30, 27,  6, 18, 26,\n",
       "         13,  7, 39, 30, 35, 34,  6, 14, 17, 17, 25, 37, 19, 33, 16, 17, 34,  4,\n",
       "         12, 27, 10, 28, 13, 29, 36, 26, 19, 10, 11, 31, 45, 10,  6, 35,  7, 31,\n",
       "         36, 18,  4, 25, 17, 23, 15,  9, 34, 14, 10, 27, 11, 32, 18, 11, 27, 22,\n",
       "         23, 18, 16, 16, 20, 17, 25, 13, 28,  2, 21, 14, 20,  8, 30, 15, 12, 24,\n",
       "         28, 30, 13, 24, 17,  6, 28, 20, 21, 21, 25, 32, 22,  3,  7, 11,  9, 22,\n",
       "         17,  2, 12, 27, 35, 32, 29, 20,  5, 33, 15, 18, 37,  8, 11,  7, 23, 21,\n",
       "         21, 24,  4, 29, 28,  8, 21, 31, 17, 27, 16, 18, 47, 11,  8,  4, 28, 12,\n",
       "         10, 43, 30, 14, 13, 18, 17, 16, 10, 18, 32, 19,  4,  3,  4, 25, 19,  7,\n",
       "         33,  9, 10, 33,  4, 15,  4, 20, 14, 22, 21, 26, 10, 25, 31,  4, 35, 10,\n",
       "         15, 13,  7,  8, 14, 17, 24, 24, 35, 20, 14, 20, 11, 10, 14, 18, 29, 19,\n",
       "         31,  6, 33, 14, 27,  8, 20, 14, 25,  4,  5, 10, 39, 45, 27, 15, 10,  6,\n",
       "         20, 27, 21, 13, 14,  9,  8, 16, 14, 20, 21, 13,  2, 25, 10,  7, 26, 27,\n",
       "         30,  5, 10, 20, 29, 19, 18, 45, 17, 12, 31,  8, 35, 10, 19, 10, 28, 25,\n",
       "         26, 13, 16,  6, 15, 11, 17, 13, 33,  8, 11, 12, 30, 19, 19, 28,  8, 12,\n",
       "         22, 17, 19, 10, 19, 16, 45, 26, 10, 20, 27, 23, 19, 14, 15, 16, 25, 33,\n",
       "         25, 19,  3, 31, 37, 18, 19,  3, 12,  6, 20, 19, 15, 23, 20, 23, 10, 15,\n",
       "         27, 21, 15, 27, 19,  5, 13, 16, 25, 35, 13, 14, 26, 23, 15, 30,  7, 21,\n",
       "          6, 23, 13, 28, 22, 17,  6, 21, 17, 41, 24, 13, 19, 13, 20, 11,  5,  8,\n",
       "         27, 14, 43,  7, 27, 19, 33, 17, 11,  5, 25, 24, 21, 19, 20, 17, 23, 21,\n",
       "         26,  4, 15, 21, 13, 17, 48, 23, 35, 11, 13, 27, 26,  5, 26, 10,  9, 17,\n",
       "         21, 28, 28,  4,  5,  6, 29,  4, 39, 19,  8, 27, 17,  9, 18, 13,  6, 35,\n",
       "          7, 10,  6, 10,  6, 10, 27, 13, 11, 33, 33, 25, 34, 24,  2, 31, 18,  4,\n",
       "         26, 23, 28, 12, 18, 19, 28, 20, 32,  8, 12, 14, 12, 13, 14, 28, 18, 21,\n",
       "         27, 20, 13, 22,  7, 32, 30,  4,  5, 16, 11,  6,  7, 26, 29,  8, 16, 19,\n",
       "         34, 26, 24, 20, 16,  5, 17, 20, 11, 17, 25,  4, 25, 20, 13, 13, 33, 22,\n",
       "         48, 19, 27, 22, 33,  8, 21, 10, 38, 18,  5, 13, 15, 19, 26,  7, 32, 28,\n",
       "          9, 22, 12, 24,  8, 25, 13, 40,  7, 37, 29,  5, 18,  5,  9, 13, 18, 11,\n",
       "         23, 14, 21, 18, 11,  7, 18, 20, 22, 19, 18, 18,  8, 10, 29, 10, 30, 21,\n",
       "         20,  7, 42, 17, 24, 17,  7, 15, 24, 17,  6, 13, 49, 25, 27, 24, 18, 27,\n",
       "         22, 38, 32, 26, 17, 16,  9, 21, 24, 28, 10, 26, 18, 20, 29, 22, 17, 20,\n",
       "         14, 12, 14, 29, 18, 22, 41, 27, 25, 13, 23, 22, 20, 20,  3, 29, 14, 10,\n",
       "         22, 41, 32, 31, 26, 34, 10, 34, 17,  8, 18, 36,  7, 11,  5,  9, 23, 12,\n",
       "         31,  9, 18, 21, 32, 16, 26, 13, 30, 26, 10,  5, 17, 11,  9,  9,  6, 34,\n",
       "         28,  7, 24, 16, 21, 31, 20, 26, 40, 12, 13, 15, 20, 21, 10,  5, 15, 21,\n",
       "         29, 25, 18, 12, 18, 24, 30, 20, 21, 12, 13, 10,  8,  3, 20, 23, 23, 16,\n",
       "         20, 29, 17, 15, 18, 21,  5,  5, 21, 13, 23, 21, 19, 36, 27, 28, 14, 13,\n",
       "         23, 21, 14, 15, 16, 13, 18, 39,  6,  8, 35,  8, 16, 21, 21, 24, 15, 15,\n",
       "         11,  4,  8,  6,  9, 15, 41, 20, 31, 25, 27, 10, 22, 25, 44,  9,  5, 15,\n",
       "          5, 40, 21, 22, 33, 32,  3, 21, 25,  7, 14, 19, 14, 19, 26, 15, 18, 32,\n",
       "         20,  3, 13, 32, 16, 12, 14, 19, 15, 21, 16, 13, 20, 29, 17, 24, 21,  5,\n",
       "         14, 10, 13, 14, 13, 18,  7, 23, 20, 11, 14, 41, 12, 14,  7, 28, 12, 29,\n",
       "          5, 12, 15, 26, 10, 11, 20, 21, 36, 13, 15, 17, 17,  6,  7, 29, 10, 23,\n",
       "         26, 17, 21, 12, 20, 37,  7, 31, 12, 36, 26, 42, 21, 40, 21, 38, 17, 19,\n",
       "         30, 17, 20, 15, 31, 19,  6, 34,  6, 17, 26, 17, 25, 33, 20, 11, 19, 19,\n",
       "         33, 12, 14, 10, 29, 34, 10, 11, 10, 23,  9,  9, 32, 22,  7, 11, 11, 23,\n",
       "         37, 13, 24, 27,  5, 32, 20, 26, 11, 14, 10,  5,  8, 32, 22, 11, 29, 14,\n",
       "         19, 26, 13, 50,  9, 25, 18, 17,  5, 22, 14, 10, 21,  5, 37, 23, 24, 16,\n",
       "         11,  8, 22, 17, 19, 17,  7, 12, 28, 13, 17, 35, 21, 16,  3, 25,  8, 26,\n",
       "          7, 19, 28, 24, 25, 26, 21, 11, 20, 17,  6, 14, 22, 20,  7, 16, 18, 11,\n",
       "          9, 19, 24, 13, 30, 27, 17, 21, 13,  9, 17,  6, 14, 22, 22, 31, 18, 12,\n",
       "         12, 28, 17, 20, 21, 16, 10, 24, 30, 13, 13, 15, 12, 23, 32, 22, 27, 18,\n",
       "          3, 21, 19, 24, 18, 18, 32, 22, 21, 13]))"
      ]
     },
     "execution_count": 14,
     "metadata": {},
     "output_type": "execute_result"
    }
   ],
   "source": [
    "batch = next(iter(train_iter))\n",
    "batch.text"
   ]
  },
  {
   "cell_type": "code",
   "execution_count": 15,
   "metadata": {},
   "outputs": [],
   "source": [
    "word_to_idx_dict = TEXT.vocab.stoi\n",
    "idx_to_word_dict = {val:idx for idx,val in word_to_idx_dict.items()}"
   ]
  },
  {
   "cell_type": "code",
   "execution_count": 17,
   "metadata": {},
   "outputs": [
    {
     "data": {
      "text/plain": [
       "torch.Size([1000, 50])"
      ]
     },
     "execution_count": 17,
     "metadata": {},
     "output_type": "execute_result"
    }
   ],
   "source": [
    "batch.text[0].size()"
   ]
  },
  {
   "cell_type": "code",
   "execution_count": 21,
   "metadata": {},
   "outputs": [
    {
     "data": {
      "text/plain": [
       "'there are few things more frustrating to a film buff than seeing an otherwise good movie marred beyond redemption by a disastrous ending . <pad> <pad> <pad> <pad> <pad> <pad> <pad> <pad> <pad> <pad> <pad> <pad> <pad> <pad> <pad> <pad> <pad> <pad> <pad> <pad> <pad> <pad> <pad> <pad> <pad> <pad>'"
      ]
     },
     "execution_count": 21,
     "metadata": {},
     "output_type": "execute_result"
    }
   ],
   "source": [
    "','.join([idx_to_word_dict[i.item()] for i in batch.text[0][0]]).replace(\",\",' ')"
   ]
  },
  {
   "cell_type": "markdown",
   "metadata": {},
   "source": [
    "<img src = \"bi_lstm_image.png\">\n",
    "<img src = \"weighted_hidden_state.png\">\n",
    "<img src = \"MLE_in_ELMO.png\">\n",
    "<img src = \"first_architecture.jpg\">\n",
    "http://hugrypiggykim.com/2018/06/08/elmo-deep-contextualized-word-representations/"
   ]
  },
  {
   "cell_type": "code",
   "execution_count": null,
   "metadata": {},
   "outputs": [],
   "source": []
  }
 ],
 "metadata": {
  "kernelspec": {
   "display_name": "Python 3",
   "language": "python",
   "name": "python3"
  },
  "language_info": {
   "codemirror_mode": {
    "name": "ipython",
    "version": 3
   },
   "file_extension": ".py",
   "mimetype": "text/x-python",
   "name": "python",
   "nbconvert_exporter": "python",
   "pygments_lexer": "ipython3",
   "version": "3.6.6"
  }
 },
 "nbformat": 4,
 "nbformat_minor": 2
}
